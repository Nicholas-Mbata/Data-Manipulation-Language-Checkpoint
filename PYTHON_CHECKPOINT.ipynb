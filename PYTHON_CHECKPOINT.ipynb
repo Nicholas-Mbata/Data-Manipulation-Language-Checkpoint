{
  "nbformat": 4,
  "nbformat_minor": 0,
  "metadata": {
    "colab": {
      "provenance": [],
      "include_colab_link": true
    },
    "kernelspec": {
      "name": "python3",
      "display_name": "Python 3"
    },
    "language_info": {
      "name": "python"
    }
  },
  "cells": [
    {
      "cell_type": "markdown",
      "metadata": {
        "id": "view-in-github",
        "colab_type": "text"
      },
      "source": [
        "<a href=\"https://colab.research.google.com/github/Nicholas-Mbata/Data-Manipulation-Language-Checkpoint/blob/master/PYTHON_CHECKPOINT.ipynb\" target=\"_parent\"><img src=\"https://colab.research.google.com/assets/colab-badge.svg\" alt=\"Open In Colab\"/></a>"
      ]
    },
    {
      "cell_type": "markdown",
      "source": [
        "Create a class called \"Calculator\" that contains the following:\n",
        "A dictionary attribute to store the available mathematical operations and their corresponding functions\n",
        "A method called \"init\" that initializes the dictionary with the basic mathematical operations (+, -, *, /) and corresponding functions\n",
        "A method called \"add_operation\" that takes in two arguments: the operation symbol and the corresponding function. This method should add the new operation and function to the dictionary.\n",
        "A method called \"calculate\" that takes in three arguments: the first number, the operation symbol, and the second number. This method should use the dictionary to determine the appropriate function to perform the calculation. It should also include error handling to check if the operation symbol is valid and if the input values are numbers. If an error is encountered, the method should print an error message and raise an exception.\n",
        "Create separate functions for the advanced mathematical operations (exponentiation, square root, logarithm) and use the \"add_operation\" method to add them to the calculator's dictionary.\n",
        "In the main program, create an instance of the Calculator class, and use a while loop that allows the user to continue performing calculations until they choose to exit.\n",
        "Use the input() function to get input from the user for the numbers and operation symbol.Use the math library for advanced mathematical operations\n",
        "Use the isinstance() function to check if the input is a number."
      ],
      "metadata": {
        "id": "OYBHS-km08g5"
      }
    },
    {
      "cell_type": "code",
      "execution_count": null,
      "metadata": {
        "colab": {
          "base_uri": "https://localhost:8080/"
        },
        "id": "HfQ1dxfJ0aBf",
        "outputId": "52e7e64d-6dc2-40f1-fdb0-ee3aa1caf1ac"
      },
      "outputs": [
        {
          "name": "stdout",
          "output_type": "stream",
          "text": [
            "Enter first number (or 'exit' to quit): 1\n",
            "Enter operation (+, -, *, /, ^, sqrt, log): +\n",
            "Enter second number: \n",
            "Error: could not convert string to float: ''\n",
            "Enter first number (or 'exit' to quit): \n",
            "Error: could not convert string to float: ''\n",
            "Enter first number (or 'exit' to quit): 1\n",
            "Enter operation (+, -, *, /, ^, sqrt, log): +\n",
            "Enter second number: 7\n",
            "Result: 8.0\n",
            "Enter first number (or 'exit' to quit): EXIT\n"
          ]
        }
      ],
      "source": [
        "import math\n",
        "\n",
        "class Calculator:\n",
        "    def __init__(self):\n",
        "        # Initialize dictionary with basic operations\n",
        "        self.operations = {\n",
        "            '+': lambda x, y: x + y,\n",
        "            '-': lambda x, y: x - y,\n",
        "            '*': lambda x, y: x * y,\n",
        "            '/': lambda x, y: x / y if y != 0 else float('inf')\n",
        "        }\n",
        "\n",
        "    def add_operation(self, symbol, function):\n",
        "        \"\"\"Adds a new operation to the dictionary.\"\"\"\n",
        "        self.operations[symbol] = function\n",
        "\n",
        "    def calculate(self, num1, operation, num2):\n",
        "        \"\"\"Performs calculation based on the given operation.\"\"\"\n",
        "        if operation not in self.operations:\n",
        "            raise ValueError(f\"Invalid operation: {operation}\")\n",
        "        if not (isinstance(num1, (int, float)) and isinstance(num2, (int, float))):\n",
        "            raise TypeError(\"Inputs must be numbers\")\n",
        "        return self.operations[operation](num1, num2)\n",
        "\n",
        "# Advanced mathematical functions\n",
        "def exponentiation(x, y):\n",
        "    return x ** y\n",
        "\n",
        "def square_root(x, _):  # Second parameter is unused but required for consistency\n",
        "    if x < 0:\n",
        "        raise ValueError(\"Cannot compute square root of a negative number\")\n",
        "    return math.sqrt(x)\n",
        "\n",
        "def logarithm(x, _):\n",
        "    if x <= 0:\n",
        "        raise ValueError(\"Logarithm input must be positive\")\n",
        "    return math.log(x)\n",
        "\n",
        "if __name__ == \"__main__\":\n",
        "    calc = Calculator()\n",
        "\n",
        "    # Adding advanced operations\n",
        "    calc.add_operation('^', exponentiation)\n",
        "    calc.add_operation('sqrt', square_root)\n",
        "    calc.add_operation('log', logarithm)\n",
        "\n",
        "    while True:\n",
        "        try:\n",
        "            num1 = input(\"Enter first number (or 'exit' to quit): \")\n",
        "            if num1.lower() == 'exit':\n",
        "                break\n",
        "            num1 = float(num1)\n",
        "\n",
        "            operation = input(\"Enter operation (+, -, *, /, ^, sqrt, log): \")\n",
        "\n",
        "            if operation in ['sqrt', 'log']:\n",
        "                num2 = 0  # Placeholder since these operations require only one number\n",
        "            else:\n",
        "                num2 = float(input(\"Enter second number: \"))\n",
        "\n",
        "            result = calc.calculate(num1, operation, num2)\n",
        "            print(f\"Result: {result}\")\n",
        "        except Exception as e:\n",
        "            print(f\"Error: {e}\")\n"
      ]
    }
  ]
}