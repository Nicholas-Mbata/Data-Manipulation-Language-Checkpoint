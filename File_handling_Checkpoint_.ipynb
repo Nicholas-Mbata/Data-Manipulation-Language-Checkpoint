{
  "nbformat": 4,
  "nbformat_minor": 0,
  "metadata": {
    "colab": {
      "provenance": [],
      "authorship_tag": "ABX9TyP+eEU41RTxK+NHGxRyx8cM",
      "include_colab_link": true
    },
    "kernelspec": {
      "name": "python3",
      "display_name": "Python 3"
    },
    "language_info": {
      "name": "python"
    }
  },
  "cells": [
    {
      "cell_type": "markdown",
      "metadata": {
        "id": "view-in-github",
        "colab_type": "text"
      },
      "source": [
        "<a href=\"https://colab.research.google.com/github/Nicholas-Mbata/Data-Manipulation-Language-Checkpoint/blob/master/File_handling_Checkpoint_.ipynb\" target=\"_parent\"><img src=\"https://colab.research.google.com/assets/colab-badge.svg\" alt=\"Open In Colab\"/></a>"
      ]
    },
    {
      "cell_type": "code",
      "source": [
        "import numpy as np\n",
        "\n",
        "# Mount Google Drive if the file is stored there\n",
        "from google.colab import drive\n",
        "drive.mount('/content/drive')\n",
        "\n",
        "# Define file path (update with actual path in Google Drive)\n",
        "file_path = \"/content/drive/My Drive/loan_Prediction_dataset.xlsx\"\n"
      ],
      "metadata": {
        "colab": {
          "base_uri": "https://localhost:8080/"
        },
        "id": "2V84n4353ZEK",
        "outputId": "8efffc3d-69ab-4ffe-ce39-53c7415c1752"
      },
      "execution_count": null,
      "outputs": [
        {
          "output_type": "stream",
          "name": "stdout",
          "text": [
            "Drive already mounted at /content/drive; to attempt to forcibly remount, call drive.mount(\"/content/drive\", force_remount=True).\n"
          ]
        }
      ]
    },
    {
      "cell_type": "code",
      "source": [
        "drive.mount(\"/content/drive\", force_remount=True)"
      ],
      "metadata": {
        "colab": {
          "base_uri": "https://localhost:8080/"
        },
        "id": "7A9AHS6w8lNg",
        "outputId": "43b37567-5b2f-4e69-af35-26aa5176f236"
      },
      "execution_count": null,
      "outputs": [
        {
          "output_type": "stream",
          "name": "stdout",
          "text": [
            "Mounted at /content/drive\n"
          ]
        }
      ]
    },
    {
      "cell_type": "code",
      "source": [
        "# Define file path (update with actual path in Google Drive)\n",
        "file_path = \"/content/drive/My Drive/loan_Prediction_dataset.xlsx\""
      ],
      "metadata": {
        "id": "XFyf4c4K8smx"
      },
      "execution_count": null,
      "outputs": []
    },
    {
      "cell_type": "code",
      "source": [
        "\n",
        "# Load the data using numpy's genfromtxt function\n",
        "with open(file_path, 'r') as file:\n",
        "    data = np.genfromtxt(file, delimiter=',', skip_header=1, usecols=(4))\n",
        "\n",
        "# Perform statistical analysis\n",
        "mean_loan = np.mean(data)\n",
        "median_loan = np.median(data)\n",
        "std_dev_loan = np.std(data)\n",
        "\n",
        "# Print results\n",
        "print(f\"Mean Loan Amount: {mean_loan}\")\n",
        "print(f\"Median Loan Amount: {median_loan}\")\n",
        "print(f\"Standard Deviation of Loan Amount: {std_dev_loan}\")\n"
      ],
      "metadata": {
        "id": "OUow2kkC8fdq"
      },
      "execution_count": null,
      "outputs": []
    }
  ]
}